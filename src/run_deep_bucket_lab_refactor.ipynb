{
 "cells": [
  {
   "cell_type": "code",
   "execution_count": null,
   "metadata": {},
   "outputs": [],
   "source": [
    "import yaml\n",
    "import torch\n",
    "from data_generation import BucketSimulation\n",
    "from lstm import deep_bucket_model\n",
    "from model_controller import ModelController\n",
    "from validation import ModelValidator\n",
    "from vizualization import Visualization"
   ]
  },
  {
   "cell_type": "code",
   "execution_count": null,
   "metadata": {},
   "outputs": [],
   "source": [
    "# Load configuration\n",
    "def load_config(config_path):\n",
    "    with open(config_path, 'r') as file:\n",
    "        config = yaml.safe_load(file)\n",
    "    return config\n",
    "\n",
    "config = load_config('configuration.yml')"
   ]
  },
  {
   "cell_type": "code",
   "execution_count": null,
   "metadata": {},
   "outputs": [],
   "source": [
    "# Check if CUDA is available and set the device\n",
    "device = torch.device('cuda' if torch.cuda.is_available() and config['device']['use_cuda'] else 'cpu')"
   ]
  },
  {
   "cell_type": "code",
   "execution_count": null,
   "metadata": {},
   "outputs": [],
   "source": [
    "# Initialize and generate synthetic data for each split\n",
    "bucket_sim_train = BucketSimulation(config, 'train')\n",
    "bucket_sim_val = BucketSimulation(config, 'val')\n",
    "bucket_sim_test = BucketSimulation(config, 'test')"
   ]
  },
  {
   "cell_type": "code",
   "execution_count": null,
   "metadata": {},
   "outputs": [],
   "source": [
    "# Simulate and store data for training, validation, and testing\n",
    "train_data = bucket_sim_train.generate_data(config['synthetic_data']['train']['num_records'])\n",
    "val_data = bucket_sim_val.generate_data(config['synthetic_data']['val']['num_records'])\n",
    "test_data = bucket_sim_test.generate_data(config['synthetic_data']['test']['num_records'])"
   ]
  },
  {
   "cell_type": "code",
   "execution_count": null,
   "metadata": {},
   "outputs": [],
   "source": [
    "bucket_dictionary = {\n",
    "    'train': train_data,\n",
    "    'val': val_data,\n",
    "    'test': test_data\n",
    "}"
   ]
  },
  {
   "cell_type": "code",
   "execution_count": null,
   "metadata": {},
   "outputs": [],
   "source": [
    "# Initialize the LSTM model and Model Controller\n",
    "model_controller = ModelController(config, device, bucket_dictionary)"
   ]
  },
  {
   "cell_type": "code",
   "execution_count": null,
   "metadata": {},
   "outputs": [],
   "source": [
    "# Prepare data loaders\n",
    "train_loader = model_controller.make_data_loader('train')\n",
    "val_loader = model_controller.make_data_loader('val')\n",
    "test_loader = model_controller.make_data_loader('test')"
   ]
  },
  {
   "cell_type": "code",
   "execution_count": null,
   "metadata": {},
   "outputs": [],
   "source": [
    "ibuc = 1\n",
    "scalers = (model_controller.scaler_in, model_controller.scaler_out)\n",
    "viz = Visualization(bucket_dictionary, config, scalers)\n",
    "viz.viz_simulation(\"val\", ibuc)\n",
    "# viz.viz_loader(val_loader[ibuc], scalers)"
   ]
  },
  {
   "cell_type": "code",
   "execution_count": null,
   "metadata": {},
   "outputs": [],
   "source": [
    "# Now train_loader, val_loader, and test_loader should be dictionaries\n",
    "trained_model, results = model_controller.train_model(train_loader)"
   ]
  },
  {
   "cell_type": "code",
   "execution_count": null,
   "metadata": {},
   "outputs": [],
   "source": [
    "model_validator = ModelValidator(trained_model, device, \n",
    "                                 bucket_dictionary, val_loader, \n",
    "                                 config, \"val\", model_controller.scaler_out)\n",
    "model_validator.validate_model(do_plot_timeseries=True)"
   ]
  },
  {
   "cell_type": "code",
   "execution_count": null,
   "metadata": {},
   "outputs": [],
   "source": []
  }
 ],
 "metadata": {
  "kernelspec": {
   "display_name": "deep_bucket_env",
   "language": "python",
   "name": "python3"
  },
  "language_info": {
   "codemirror_mode": {
    "name": "ipython",
    "version": 3
   },
   "file_extension": ".py",
   "mimetype": "text/x-python",
   "name": "python",
   "nbconvert_exporter": "python",
   "pygments_lexer": "ipython3",
   "version": "3.9.19"
  }
 },
 "nbformat": 4,
 "nbformat_minor": 2
}
